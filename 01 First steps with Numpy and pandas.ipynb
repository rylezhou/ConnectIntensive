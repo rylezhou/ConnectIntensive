{
 "cells": [
  {
   "cell_type": "markdown",
   "metadata": {},
   "source": [
    "## Connect Intensive - Machine Learning Nanodegree\n",
    "\n",
    "### Introduction to `numpy`\n",
    "\n",
    "NumPy is the fundamental package for scientific computing with Python. It contains among other things:\n",
    " (https://www.numpy.org/)\n",
    " - a powerful N-dimensional array object\n",
    " - sophisticated (broadcasting) functions\n",
    " - tools for integrating C/C++ and Fortran code\n",
    " - useful linear algebra, Fourier transform, and random number capabilities\n",
    " - and more ..\n",
    " \n",
    "\n",
    "\n",
    "The following code is to help you play with Numpy, which is a library \n",
    "that provides functions that are especially useful when you have to\n",
    "work with large arrays and matrices of numeric data, like doing \n",
    "matrix matrix multiplications. Also, Numpy is battle tested and \n",
    "optimized so that it runs fast, much faster than if you were working\n",
    "with Python lists directly.\n",
    "\n"
   ]
  },
  {
   "cell_type": "code",
   "execution_count": 15,
   "metadata": {},
   "outputs": [
    {
     "name": "stdout",
     "output_type": "stream",
     "text": [
      "Our array is called a 1-dimensional array as it contains values along 1 axis -- a row\n",
      "[ 1.  4.  5.  8.]\n",
      "\n",
      "The next example is called a 2-dimensional array because it has numbers in more than 1 row as\n",
      "well as in columns\n",
      "[[ 1.  2.  3.]\n",
      " [ 4.  5.  6.]]\n",
      "\n",
      "The next example is still a 2-dimensional array because it has numbers in rows and in columns\n",
      "[[ 1.  2.  3.]\n",
      " [ 4.  5.  6.]\n",
      " [ 7.  8.  9.]]\n"
     ]
    }
   ],
   "source": [
    "import numpy as np\n",
    "\n",
    "\n",
    "'''\n",
    "The array object class is the foundation of Numpy, and Numpy arrays are like\n",
    "lists in Python, except that every thing inside an array must be of the\n",
    "same type, like int or float.\n",
    "'''\n",
    "# Change False to True to see Numpy arrays in action\n",
    "if True:\n",
    "    array1 = np.array([1, 4, 5, 8], float)\n",
    "    print(\"Our array is called a 1-dimensional array as it contains values along 1 axis -- a row\\n{}\".format(array1))\n",
    "    array2 = np.array([[1, 2, 3], [4, 5, 6]], float)  # a 2D array/Matrix   \n",
    "    print(\"\\nThe next example is called a 2-dimensional array because it has numbers in more than 1 row as\")\n",
    "    print(\"well as in columns\\n{}\".format(array2))\n",
    "\n",
    "    array3 = np.array([[1, 2, 3], [4, 5, 6], [7, 8, 9]], float)  # a 2D array/Matrix\n",
    "    print(\"\\nThe next example is still a 2-dimensional array because it has numbers in rows and in columns\\n{}\".format(array3))\n",
    "    "
   ]
  },
  {
   "cell_type": "markdown",
   "metadata": {},
   "source": [
    "What would a 3-dimensional array look like? We can answer that intuitively by looking closely at the one- and two- \n",
    "dimensional arrays. In the examples above, we see that the two-dimensional array looks like a number of rows one after the\n",
    "other, i.e., rows stacked together. So we might expect a 3-dimensional array would like a number of _smaller_ units \n",
    "(2-dimensional arrays maybe?) stacked together."
   ]
  },
  {
   "cell_type": "code",
   "execution_count": 16,
   "metadata": {
    "scrolled": true
   },
   "outputs": [
    {
     "name": "stdout",
     "output_type": "stream",
     "text": [
      "A 3-dimensional array:\n",
      "[[[  1.   2.]\n",
      "  [  3.   4.]]\n",
      "\n",
      " [[  5.   6.]\n",
      "  [  7.   8.]]\n",
      "\n",
      " [[  9.  10.]\n",
      "  [ 11.  12.]]]\n"
     ]
    }
   ],
   "source": [
    "array4 = np.array([[[1, 2], [3,4]], [[5, 6], [7, 8]], [[9, 10], [11, 12]]], float)\n",
    "print(\"A 3-dimensional array:\\n{}\".format(array4))"
   ]
  },
  {
   "cell_type": "markdown",
   "metadata": {},
   "source": [
    "We can continue stacking numpy arrays of lower dimensions to build up even higher dimensional arrays. \n",
    "This naturally brings the question, if we had an array that someone (or some snippet of code) provided us, how coumld we\n",
    "know its dimensionality if we wanted to? Numpy provides a convenient functiomn `shape` to do this. You read of the\n",
    "dimensionality from the number of elements in the tuple that is the result of `shape`."
   ]
  },
  {
   "cell_type": "code",
   "execution_count": 26,
   "metadata": {},
   "outputs": [
    {
     "name": "stdout",
     "output_type": "stream",
     "text": [
      "The shape of the first array we built is (4L,)\t\t and it is 1-dimensional.\n",
      "The shape of the second array we built is (2L, 3L)\t and it is 2-dimensional.\n",
      "The shape of the third array we built is (3L, 3L)\t and it is 2-dimensional.\n",
      "The shape of the last array we built is (3L, 2L, 2L)\t and it is 3-dimensional.\n"
     ]
    }
   ],
   "source": [
    "print(\"The shape of the first array we built is {}\\t\\t and it is {}-dimensional.\".format(array1.shape, len(array1.shape)))\n",
    "print(\"The shape of the second array we built is {}\\t and it is {}-dimensional.\".format(array2.shape, len(array2.shape)))\n",
    "print(\"The shape of the third array we built is {}\\t and it is {}-dimensional.\".format(array3.shape, len(array3.shape)))\n",
    "print(\"The shape of the last array we built is {}\\t and it is {}-dimensional.\".format(array4.shape, len(array4.shape)))"
   ]
  },
  {
   "cell_type": "code",
   "execution_count": null,
   "metadata": {
    "collapsed": true
   },
   "outputs": [],
   "source": [
    "'''\n",
    "You can index, slice, and manipulate a Numpy array much like you would with a\n",
    "a Python list.\n",
    "'''\n",
    "# Change False to True to see array indexing and slicing in action\n",
    "if False:\n",
    "    array = np.array([1, 4, 5, 8], float)\n",
    "    print array\n",
    "    print \"\"\n",
    "    print array[1]\n",
    "    print \"\"\n",
    "    print array[:2]\n",
    "    print \"\"\n",
    "    array[1] = 5.0\n",
    "    print array[1]\n",
    "\n",
    "# Change False to True to see Matrix indexing and slicing in action\n",
    "if False:\n",
    "    two_D_array = np.array([[1, 2, 3], [4, 5, 6]], float)\n",
    "    print two_D_array\n",
    "    print \"\"\n",
    "    print two_D_array[1][1]\n",
    "    print \"\"\n",
    "    print two_D_array[1, :]\n",
    "    print \"\"\n",
    "    print two_D_array[:, 2]\n",
    "\n",
    "'''\n",
    "Here are some arithmetic operations that you can do with Numpy arrays\n",
    "'''\n",
    "# Change False to True to see Array arithmetics in action\n",
    "if False:\n",
    "    array_1 = np.array([1, 2, 3], float)\n",
    "    array_2 = np.array([5, 2, 6], float)\n",
    "    print array_1 + array_2\n",
    "    print \"\"\n",
    "    print array_1 - array_2\n",
    "    print \"\"\n",
    "    print array_1 * array_2\n",
    "\n",
    "# Change False to True to see Matrix arithmetics in action\n",
    "if False:\n",
    "    array_1 = np.array([[1, 2], [3, 4]], float)\n",
    "    array_2 = np.array([[5, 6], [7, 8]], float)\n",
    "    print array_1 + array_2\n",
    "    print \"\"\n",
    "    print array_1 - array_2\n",
    "    print \"\"\n",
    "    print array_1 * array_2"
   ]
  },
  {
   "cell_type": "markdown",
   "metadata": {},
   "source": [
    "In addition to the standard arthimetic operations, Numpy also has a range of\n",
    "other mathematical operations that you can apply to Numpy arrays, such as\n",
    "mean and dot product."
   ]
  },
  {
   "cell_type": "code",
   "execution_count": 29,
   "metadata": {},
   "outputs": [
    {
     "name": "stdout",
     "output_type": "stream",
     "text": [
      "2.0\n",
      "7.0\n",
      "\n",
      "[ 44.]\n"
     ]
    }
   ],
   "source": [
    "array_1 = np.array([1, 2, 3], float)\n",
    "array_2 = np.array([[6], [7], [8]], float)\n",
    "print(np.mean(array_1))\n",
    "print(np.mean(array_2))\n",
    "print(\"\")\n",
    "print(np.dot(array_1, array_2))"
   ]
  },
  {
   "cell_type": "markdown",
   "metadata": {},
   "source": [
    "Multiplication of numpy arrays can give you unexpected results if you don't know the rules well. Let's see what happens when\n",
    "you do a multiplication of the two arrays above. Can you reason through why you got a 3x3 2-dimensional array and where the \n",
    "numbers in it came from?"
   ]
  },
  {
   "cell_type": "code",
   "execution_count": 31,
   "metadata": {},
   "outputs": [
    {
     "name": "stdout",
     "output_type": "stream",
     "text": [
      "[[  6.  12.  18.]\n",
      " [  7.  14.  21.]\n",
      " [  8.  16.  24.]]\n"
     ]
    }
   ],
   "source": [
    "print(array_1*array_2)"
   ]
  },
  {
   "cell_type": "markdown",
   "metadata": {},
   "source": [
    "So looking back a few frames, you'll see that the `'*'` operator represents an element-wise multiplication. The result is unambiguous when the two matrices have the same shape, for example when we multiply `np.array([1, 2, 3])` by `np.array([6, 7, 8])`.\n",
    "We get `[6, 14, 24]` because for every element of the first array, there is a corresponding element in the second one.\n",
    "\n",
    "In our example, array_1 has 1 row of three elements, but array_2 only has one element (6) in the first row. So numpy treats it as a single number and produces the row `[6, 12, 18]`. The second element in array_2, a similar situation holds and we get the second row of the result as `[1, 2, 3]` multiplied by (7).\n"
   ]
  },
  {
   "cell_type": "markdown",
   "metadata": {},
   "source": [
    "#### Quizzes\n",
    "What is the difference between `np.array([[6, 7, 8]])` and `np.array([[6], [7], [8]])`?"
   ]
  },
  {
   "cell_type": "markdown",
   "metadata": {},
   "source": [
    "**Answer:** `np.array([[6, 7, 8]])` is a 1-dimensional array of 3 elements. `np.array([[6], [7], [8]])` is a 2-dimensional array"
   ]
  },
  {
   "cell_type": "markdown",
   "metadata": {},
   "source": [
    "How would you quickly create a 10x10 matrix of the numbers 5, 6, ..., 104 where the first _column_ is [5, 6, 7, ..]?"
   ]
  },
  {
   "cell_type": "markdown",
   "metadata": {},
   "source": [
    "**Answer:** This introduces three functions in `numpy`. \n",
    "1. Python has a function `range` that can produce a sequence of numbers very easily. Numpy has a similar function `numpy.arange`. `np.arange(5, 105)` will return a sequence (in this case a 1-dimensinal np.array) of 100 elements from 5 through 104.\n",
    "2. `numpy` has a function reshape that can take a sequence and produce an N-dimensional array based on its argument which should be a tuple giving the number of elements in each dimension. So np.reshape((10, 10)) would take a 100 element 1-array and return a $ 10 \\times 10 $ 2-array\n",
    "3. A common manipulation of square matrices (same number of rows and columns) is to flip around the diagonal. This is called matrix transposition. `np.transpose` will take the 2-dimensional matrix and return another one with its rows being the columns of the original.\n",
    "Finally, you can chain together these functions in compact notation"
   ]
  },
  {
   "cell_type": "code",
   "execution_count": 34,
   "metadata": {},
   "outputs": [
    {
     "name": "stdout",
     "output_type": "stream",
     "text": [
      "[[  5  15  25  35  45  55  65  75  85  95]\n",
      " [  6  16  26  36  46  56  66  76  86  96]\n",
      " [  7  17  27  37  47  57  67  77  87  97]\n",
      " [  8  18  28  38  48  58  68  78  88  98]\n",
      " [  9  19  29  39  49  59  69  79  89  99]\n",
      " [ 10  20  30  40  50  60  70  80  90 100]\n",
      " [ 11  21  31  41  51  61  71  81  91 101]\n",
      " [ 12  22  32  42  52  62  72  82  92 102]\n",
      " [ 13  23  33  43  53  63  73  83  93 103]\n",
      " [ 14  24  34  44  54  64  74  84  94 104]]\n"
     ]
    }
   ],
   "source": [
    "array10 = np.arange(5, 105).reshape((10, 10)).transpose()\n",
    "print(array10)"
   ]
  },
  {
   "cell_type": "markdown",
   "metadata": {},
   "source": [
    "3. Calculate the average of the numbers in each column\n",
    "\n",
    "**Answer:** This one has a few solutions. The first solution that may come to mind if you aren't familiar with matrices\n",
    "is to just write two nested loops in pure python."
   ]
  },
  {
   "cell_type": "code",
   "execution_count": 36,
   "metadata": {},
   "outputs": [
    {
     "name": "stdout",
     "output_type": "stream",
     "text": [
      "[  9.5  19.5  29.5  39.5  49.5  59.5  69.5  79.5  89.5  99.5]\n"
     ]
    }
   ],
   "source": [
    "# Using brute force looping\n",
    "result0 = np.zeros(10) # This is a quick function to produce an array of zero values of the input length\n",
    "for i in range(10): #looping over column indicies as we want the um over columns\n",
    "    for j in range(10): #loop over row indices \n",
    "        result0[i] += array10[j][i]\n",
    "print(result0/10.0)"
   ]
  },
  {
   "cell_type": "code",
   "execution_count": 39,
   "metadata": {},
   "outputs": [
    {
     "name": "stdout",
     "output_type": "stream",
     "text": [
      "[  9.5  19.5  29.5  39.5  49.5  59.5  69.5  79.5  89.5  99.5]\n"
     ]
    }
   ],
   "source": [
    "# Mixing python and numpy.\n",
    "# We learned earlier that we can find the mean of an np.array using np.mean. Let's try that on the columns.\n",
    "# Lets first use transpose so that the columns become rows and then we can loop over the rows and use the mean()\n",
    "result1 = np.array([row.mean() for row in array10.transpose()])\n",
    "print(result1)"
   ]
  },
  {
   "cell_type": "code",
   "execution_count": 45,
   "metadata": {},
   "outputs": [
    {
     "name": "stdout",
     "output_type": "stream",
     "text": [
      "[  9.5  19.5  29.5  39.5  49.5  59.5  69.5  79.5  89.5  99.5]\n"
     ]
    }
   ],
   "source": [
    "# Turns out numpy has the easiest way of doing this\n",
    "# We have to specify the axis if we want to apply the mean function over one of the dimensions\n",
    "# 0 - for column-mean (looping over rows) and 1 for row-mean (looping over columns)\n",
    "print(array10.mean(axis=0) )a"
   ]
  },
  {
   "cell_type": "markdown",
   "metadata": {},
   "source": [
    "There is one more way -- using matrix multiplication. I'll leave it for to try entirely on your own if you are interested."
   ]
  },
  {
   "cell_type": "markdown",
   "metadata": {},
   "source": [
    "### Pandas\n",
    "\n",
    "[pandas.pydata.org/](http://pandas.pydata.org/)\n",
    "\n",
    "[Another tutorial](https://bitbucket.org/hrojas/learn-pandas)\n",
    "\n",
    " - A fast and efficient DataFrame object for data manipulation with integrated indexing\n",
    " - Tools for reading and writing data between in-memory data structures and different formats: CSV and text files, Microsoft Excel, SQL databases, and the fast HDF5 format\n",
    " - Intelligent data alignment and integrated handling of missing data: gain automatic label-based alignment in computations and easily manipulate messy data into an orderly form\n",
    " - Flexible reshaping and pivoting of data sets\n",
    " - Intelligent label-based slicing, fancy indexing, and subsetting of large data sets\n",
    " - Columns can be inserted and deleted from data structures for size mutability\n",
    " - Aggregating or transforming data with a powerful `group by` engine allowing `split-apply-combine` operations on data sets\n",
    " - High performance merging and joining of data sets;\n",
    " - Highly optimized for performance, with critical code paths written in Cython or C.\n",
    " - and more ..\n",
    " \n",
    " \n",
    "Spreadsheets and relational databases are other artifacts that can do very impressive things with tabular data. Pandas borrows some of the terminology and concepts of working with relational tables. Thus tere are functions iike `groupby`, `merge`, `drop` and others. These terms do not use the same syntax, but attempt to have similar effects."
   ]
  },
  {
   "cell_type": "code",
   "execution_count": 23,
   "metadata": {
    "collapsed": true
   },
   "outputs": [],
   "source": [
    "import pandas as pd\n",
    "\n",
    "'''\n",
    "The following code is to help you play with the concept of Series in Pandas.\n",
    "\n",
    "You can think of Series as an one-dimensional object that is similar to\n",
    "an array, list, or column in a database. By default, it will assign an\n",
    "index label to each item in the Series ranging from 0 to N, where N is\n",
    "the number of items in the Series minus one.\n",
    "\n",
    "Please feel free to play around with the concept of Series and see what it does\n",
    "\n",
    "*This playground is inspired by Greg Reda's post on Intro to Pandas Data Structures:\n",
    "http://www.gregreda.com/2013/10/26/intro-to-pandas-data-structures/\n",
    "'''\n",
    "# Change False to True to create a Series object\n",
    "if False:\n",
    "    series = pd.Series(['Dave', 'Cheng-Han', 'Udacity', 42, -1789710578])\n",
    "    print series\n",
    "\n",
    "'''\n",
    "You can also manually assign indices to the items in the Series when\n",
    "creating the series\n",
    "'''\n",
    "\n",
    "# Change False to True to see custom index in action\n",
    "if False:\n",
    "    series = pd.Series(['Dave', 'Cheng-Han', 359, 9001],\n",
    "                       index=['Instructor', 'Curriculum Manager',\n",
    "                              'Course Number', 'Power Level'])\n",
    "    print series\n",
    "\n",
    "'''\n",
    "You can use index to select specific items from the Series\n",
    "'''\n",
    "# Change False to True to see Series indexing in action\n",
    "if False:\n",
    "    series = pd.Series(['Dave', 'Cheng-Han', 359, 9001],\n",
    "                       index=['Instructor', 'Curriculum Manager',\n",
    "                              'Course Number', 'Power Level'])\n",
    "    print series['Instructor']\n",
    "    print \"\"\n",
    "    print series[['Instructor', 'Curriculum Manager', 'Course Number']]\n",
    "\n",
    "'''\n",
    "You can also use boolean operators to select specific items from the Series\n",
    "'''\n",
    "# Change False to True to see boolean indexing in action\n",
    "if False:\n",
    "    cuteness = pd.Series([1, 2, 3, 4, 5], index=['Cockroach', 'Fish', 'Mini Pig',\n",
    "                                                 'Puppy', 'Kitten'])\n",
    "    print cuteness > 3\n",
    "    print \"\"\n",
    "    print cuteness[cuteness > 3]\n"
   ]
  },
  {
   "cell_type": "code",
   "execution_count": 24,
   "metadata": {},
   "outputs": [
    {
     "name": "stdout",
     "output_type": "stream",
     "text": [
      "losses     int64\n",
      "team      object\n",
      "wins       int64\n",
      "year       int64\n",
      "dtype: object\n",
      "\n",
      "          losses       wins         year\n",
      "count   8.000000   8.000000     8.000000\n",
      "mean    6.625000   9.375000  2011.125000\n",
      "std     3.377975   3.377975     0.834523\n",
      "min     1.000000   4.000000  2010.000000\n",
      "25%     5.000000   7.500000  2010.750000\n",
      "50%     6.000000  10.000000  2011.000000\n",
      "75%     8.500000  11.000000  2012.000000\n",
      "max    12.000000  15.000000  2012.000000\n",
      "\n",
      "   losses     team  wins  year\n",
      "0       5    Bears    11  2010\n",
      "1       8    Bears     8  2011\n",
      "2       6    Bears    10  2012\n",
      "3       1  Packers    15  2011\n",
      "4       5  Packers    11  2012\n",
      "\n",
      "   losses     team  wins  year\n",
      "3       1  Packers    15  2011\n",
      "4       5  Packers    11  2012\n",
      "5      10    Lions     6  2010\n",
      "6       6    Lions    10  2011\n",
      "7      12    Lions     4  2012\n"
     ]
    }
   ],
   "source": [
    "'''\n",
    "The following code is to help you play with the concept of Dataframe in Pandas.\n",
    "\n",
    "You can think of a Dataframe as something with rows and columns. It is\n",
    "similar to a spreadsheet, a database table, or R's data.frame object.\n",
    "\n",
    "*This playground is inspired by Greg Reda's post on Intro to Pandas Data Structures:\n",
    "http://www.gregreda.com/2013/10/26/intro-to-pandas-data-structures/\n",
    "'''\n",
    "\n",
    "'''\n",
    "To create a dataframe, you can pass a dictionary of lists to the Dataframe\n",
    "constructor:\n",
    "1) The key of the dictionary will be the column name\n",
    "2) The associating list will be the values within that column.\n",
    "'''\n",
    "# Change False to True to see Dataframes in action\n",
    "if False:\n",
    "    data = {'year': [2010, 2011, 2012, 2011, 2012, 2010, 2011, 2012],\n",
    "            'team': ['Bears', 'Bears', 'Bears', 'Packers', 'Packers', 'Lions',\n",
    "                     'Lions', 'Lions'],\n",
    "            'wins': [11, 8, 10, 15, 11, 6, 10, 4],\n",
    "            'losses': [5, 8, 6, 1, 5, 10, 6, 12]}\n",
    "    football = pd.DataFrame(data)\n",
    "    print football\n",
    "\n",
    "'''\n",
    "Pandas also has various functions that will help you understand some basic\n",
    "information about your data frame. Some of these functions are:\n",
    "1) dtypes: to get the datatype for each column\n",
    "2) describe: useful for seeing basic statistics of the dataframe's numerical\n",
    "   columns\n",
    "3) head: displays the first five rows of the dataset\n",
    "4) tail: displays the last five rows of the dataset\n",
    "'''\n",
    "# Change False to True to see these functions in action\n",
    "if True:\n",
    "    data = {'year': [2010, 2011, 2012, 2011, 2012, 2010, 2011, 2012],\n",
    "            'team': ['Bears', 'Bears', 'Bears', 'Packers', 'Packers', 'Lions',\n",
    "                     'Lions', 'Lions'],\n",
    "            'wins': [11, 8, 10, 15, 11, 6, 10, 4],\n",
    "            'losses': [5, 8, 6, 1, 5, 10, 6, 12]}\n",
    "    football = pd.DataFrame(data)\n",
    "    print football.dtypes\n",
    "    print \"\"\n",
    "    print football.describe()\n",
    "    print \"\"\n",
    "    print football.head()\n",
    "    print \"\"\n",
    "    print football.tail()\n"
   ]
  },
  {
   "cell_type": "markdown",
   "metadata": {},
   "source": [
    "#### Questions\n",
    "How many different types of data does `pandas` support?"
   ]
  },
  {
   "cell_type": "code",
   "execution_count": null,
   "metadata": {
    "collapsed": true
   },
   "outputs": [],
   "source": []
  },
  {
   "cell_type": "markdown",
   "metadata": {},
   "source": [
    "When you work with tabular (2-dimensional) data, a very common chore is selecting a subset of the olumns, or a set of rows that match some criteria. `pandas` provides very flexible methods for this. From the `football` DataFrame above, select the records for the 'Bears' (should be another DataFrame but with just the rows with 'Bears' in the 'team' column). Also, create another DataFrame that includes all the rows but doesn't include `year`."
   ]
  },
  {
   "cell_type": "code",
   "execution_count": 31,
   "metadata": {},
   "outputs": [
    {
     "data": {
      "text/html": [
       "<div>\n",
       "<style>\n",
       "    .dataframe thead tr:only-child th {\n",
       "        text-align: right;\n",
       "    }\n",
       "\n",
       "    .dataframe thead th {\n",
       "        text-align: left;\n",
       "    }\n",
       "\n",
       "    .dataframe tbody tr th {\n",
       "        vertical-align: top;\n",
       "    }\n",
       "</style>\n",
       "<table border=\"1\" class=\"dataframe\">\n",
       "  <thead>\n",
       "    <tr style=\"text-align: right;\">\n",
       "      <th></th>\n",
       "      <th>losses</th>\n",
       "      <th>team</th>\n",
       "      <th>wins</th>\n",
       "    </tr>\n",
       "  </thead>\n",
       "  <tbody>\n",
       "    <tr>\n",
       "      <th>0</th>\n",
       "      <td>5</td>\n",
       "      <td>Bears</td>\n",
       "      <td>11</td>\n",
       "    </tr>\n",
       "    <tr>\n",
       "      <th>1</th>\n",
       "      <td>8</td>\n",
       "      <td>Bears</td>\n",
       "      <td>8</td>\n",
       "    </tr>\n",
       "    <tr>\n",
       "      <th>2</th>\n",
       "      <td>6</td>\n",
       "      <td>Bears</td>\n",
       "      <td>10</td>\n",
       "    </tr>\n",
       "  </tbody>\n",
       "</table>\n",
       "</div>"
      ],
      "text/plain": [
       "   losses   team  wins\n",
       "0       5  Bears    11\n",
       "1       8  Bears     8\n",
       "2       6  Bears    10"
      ]
     },
     "execution_count": 31,
     "metadata": {},
     "output_type": "execute_result"
    }
   ],
   "source": [
    "football[football.team == 'Bears'].drop('year', axis=1)"
   ]
  },
  {
   "cell_type": "markdown",
   "metadata": {},
   "source": [
    "From your result above, calculate the average (mean) number of wins and losses for the Bears?"
   ]
  },
  {
   "cell_type": "code",
   "execution_count": 34,
   "metadata": {},
   "outputs": [
    {
     "data": {
      "text/plain": [
       "losses    6.333333\n",
       "wins      9.666667\n",
       "dtype: float64"
      ]
     },
     "execution_count": 34,
     "metadata": {},
     "output_type": "execute_result"
    }
   ],
   "source": [
    "football[football.team == 'Bears'].drop('year', axis=1).mean()"
   ]
  },
  {
   "cell_type": "markdown",
   "metadata": {},
   "source": [
    "From the original `football` DataFrame above, calculate the average number of wins and losses for each of the three teams. Do not include the average of the year in which they were playing."
   ]
  },
  {
   "cell_type": "code",
   "execution_count": 37,
   "metadata": {},
   "outputs": [
    {
     "data": {
      "text/html": [
       "<div>\n",
       "<style>\n",
       "    .dataframe thead tr:only-child th {\n",
       "        text-align: right;\n",
       "    }\n",
       "\n",
       "    .dataframe thead th {\n",
       "        text-align: left;\n",
       "    }\n",
       "\n",
       "    .dataframe tbody tr th {\n",
       "        vertical-align: top;\n",
       "    }\n",
       "</style>\n",
       "<table border=\"1\" class=\"dataframe\">\n",
       "  <thead>\n",
       "    <tr style=\"text-align: right;\">\n",
       "      <th></th>\n",
       "      <th>losses</th>\n",
       "      <th>wins</th>\n",
       "    </tr>\n",
       "    <tr>\n",
       "      <th>team</th>\n",
       "      <th></th>\n",
       "      <th></th>\n",
       "    </tr>\n",
       "  </thead>\n",
       "  <tbody>\n",
       "    <tr>\n",
       "      <th>Bears</th>\n",
       "      <td>6.333333</td>\n",
       "      <td>9.666667</td>\n",
       "    </tr>\n",
       "    <tr>\n",
       "      <th>Lions</th>\n",
       "      <td>9.333333</td>\n",
       "      <td>6.666667</td>\n",
       "    </tr>\n",
       "    <tr>\n",
       "      <th>Packers</th>\n",
       "      <td>3.000000</td>\n",
       "      <td>13.000000</td>\n",
       "    </tr>\n",
       "  </tbody>\n",
       "</table>\n",
       "</div>"
      ],
      "text/plain": [
       "           losses       wins\n",
       "team                        \n",
       "Bears    6.333333   9.666667\n",
       "Lions    9.333333   6.666667\n",
       "Packers  3.000000  13.000000"
      ]
     },
     "execution_count": 37,
     "metadata": {},
     "output_type": "execute_result"
    }
   ],
   "source": [
    "football.drop('year', axis=1).groupby('team').mean()"
   ]
  },
  {
   "cell_type": "markdown",
   "metadata": {},
   "source": [
    "In `football`, should `year` be considered a numeric variable or a categorical variable?"
   ]
  },
  {
   "cell_type": "code",
   "execution_count": null,
   "metadata": {
    "collapsed": true
   },
   "outputs": [],
   "source": []
  },
  {
   "cell_type": "markdown",
   "metadata": {},
   "source": [
    "Add a column to `football` with the header \"win_rate\" and populate it with the fraction of games won (the total number of \n",
    "games played by eahch team in a given year is 16)."
   ]
  },
  {
   "cell_type": "code",
   "execution_count": 38,
   "metadata": {
    "collapsed": true
   },
   "outputs": [],
   "source": [
    "football['win_rate'] = football.wins/16.0"
   ]
  },
  {
   "cell_type": "code",
   "execution_count": 39,
   "metadata": {},
   "outputs": [
    {
     "data": {
      "text/html": [
       "<div>\n",
       "<style>\n",
       "    .dataframe thead tr:only-child th {\n",
       "        text-align: right;\n",
       "    }\n",
       "\n",
       "    .dataframe thead th {\n",
       "        text-align: left;\n",
       "    }\n",
       "\n",
       "    .dataframe tbody tr th {\n",
       "        vertical-align: top;\n",
       "    }\n",
       "</style>\n",
       "<table border=\"1\" class=\"dataframe\">\n",
       "  <thead>\n",
       "    <tr style=\"text-align: right;\">\n",
       "      <th></th>\n",
       "      <th>losses</th>\n",
       "      <th>team</th>\n",
       "      <th>wins</th>\n",
       "      <th>year</th>\n",
       "      <th>win_rate</th>\n",
       "    </tr>\n",
       "  </thead>\n",
       "  <tbody>\n",
       "    <tr>\n",
       "      <th>0</th>\n",
       "      <td>5</td>\n",
       "      <td>Bears</td>\n",
       "      <td>11</td>\n",
       "      <td>2010</td>\n",
       "      <td>0.6875</td>\n",
       "    </tr>\n",
       "    <tr>\n",
       "      <th>1</th>\n",
       "      <td>8</td>\n",
       "      <td>Bears</td>\n",
       "      <td>8</td>\n",
       "      <td>2011</td>\n",
       "      <td>0.5000</td>\n",
       "    </tr>\n",
       "    <tr>\n",
       "      <th>2</th>\n",
       "      <td>6</td>\n",
       "      <td>Bears</td>\n",
       "      <td>10</td>\n",
       "      <td>2012</td>\n",
       "      <td>0.6250</td>\n",
       "    </tr>\n",
       "    <tr>\n",
       "      <th>3</th>\n",
       "      <td>1</td>\n",
       "      <td>Packers</td>\n",
       "      <td>15</td>\n",
       "      <td>2011</td>\n",
       "      <td>0.9375</td>\n",
       "    </tr>\n",
       "    <tr>\n",
       "      <th>4</th>\n",
       "      <td>5</td>\n",
       "      <td>Packers</td>\n",
       "      <td>11</td>\n",
       "      <td>2012</td>\n",
       "      <td>0.6875</td>\n",
       "    </tr>\n",
       "    <tr>\n",
       "      <th>5</th>\n",
       "      <td>10</td>\n",
       "      <td>Lions</td>\n",
       "      <td>6</td>\n",
       "      <td>2010</td>\n",
       "      <td>0.3750</td>\n",
       "    </tr>\n",
       "    <tr>\n",
       "      <th>6</th>\n",
       "      <td>6</td>\n",
       "      <td>Lions</td>\n",
       "      <td>10</td>\n",
       "      <td>2011</td>\n",
       "      <td>0.6250</td>\n",
       "    </tr>\n",
       "    <tr>\n",
       "      <th>7</th>\n",
       "      <td>12</td>\n",
       "      <td>Lions</td>\n",
       "      <td>4</td>\n",
       "      <td>2012</td>\n",
       "      <td>0.2500</td>\n",
       "    </tr>\n",
       "  </tbody>\n",
       "</table>\n",
       "</div>"
      ],
      "text/plain": [
       "   losses     team  wins  year  win_rate\n",
       "0       5    Bears    11  2010    0.6875\n",
       "1       8    Bears     8  2011    0.5000\n",
       "2       6    Bears    10  2012    0.6250\n",
       "3       1  Packers    15  2011    0.9375\n",
       "4       5  Packers    11  2012    0.6875\n",
       "5      10    Lions     6  2010    0.3750\n",
       "6       6    Lions    10  2011    0.6250\n",
       "7      12    Lions     4  2012    0.2500"
      ]
     },
     "execution_count": 39,
     "metadata": {},
     "output_type": "execute_result"
    }
   ],
   "source": [
    "football"
   ]
  },
  {
   "cell_type": "markdown",
   "metadata": {},
   "source": [
    "Suppose you had additional information on `salary` for these teams and years. Add these values to the `football` table.\n"
   ]
  },
  {
   "cell_type": "code",
   "execution_count": 41,
   "metadata": {
    "collapsed": true
   },
   "outputs": [],
   "source": [
    "salary = {'year': [2010, 2011, 2012, 2011, 2012, 2010, 2011, 2012],\n",
    "            'team': ['Bears', 'Bears', 'Bears', 'Packers', 'Packers', 'Lions',\n",
    "                     'Lions', 'Lions'],\n",
    "            'salary': [112.1, 125.2, 120.8, 115.4, 118.4, 96.2, 100.5, 104.1]}\n",
    "#TODO - Add in code to combine this dictionary with football. [Hint: look at the pandas docs for DataFrame merge]"
   ]
  },
  {
   "cell_type": "code",
   "execution_count": 43,
   "metadata": {},
   "outputs": [
    {
     "data": {
      "text/html": [
       "<div>\n",
       "<style>\n",
       "    .dataframe thead tr:only-child th {\n",
       "        text-align: right;\n",
       "    }\n",
       "\n",
       "    .dataframe thead th {\n",
       "        text-align: left;\n",
       "    }\n",
       "\n",
       "    .dataframe tbody tr th {\n",
       "        vertical-align: top;\n",
       "    }\n",
       "</style>\n",
       "<table border=\"1\" class=\"dataframe\">\n",
       "  <thead>\n",
       "    <tr style=\"text-align: right;\">\n",
       "      <th></th>\n",
       "      <th>losses</th>\n",
       "      <th>team</th>\n",
       "      <th>wins</th>\n",
       "      <th>year</th>\n",
       "      <th>win_rate</th>\n",
       "      <th>salary</th>\n",
       "    </tr>\n",
       "  </thead>\n",
       "  <tbody>\n",
       "    <tr>\n",
       "      <th>0</th>\n",
       "      <td>5</td>\n",
       "      <td>Bears</td>\n",
       "      <td>11</td>\n",
       "      <td>2010</td>\n",
       "      <td>0.6875</td>\n",
       "      <td>112.1</td>\n",
       "    </tr>\n",
       "    <tr>\n",
       "      <th>1</th>\n",
       "      <td>8</td>\n",
       "      <td>Bears</td>\n",
       "      <td>8</td>\n",
       "      <td>2011</td>\n",
       "      <td>0.5000</td>\n",
       "      <td>125.2</td>\n",
       "    </tr>\n",
       "    <tr>\n",
       "      <th>2</th>\n",
       "      <td>6</td>\n",
       "      <td>Bears</td>\n",
       "      <td>10</td>\n",
       "      <td>2012</td>\n",
       "      <td>0.6250</td>\n",
       "      <td>120.8</td>\n",
       "    </tr>\n",
       "    <tr>\n",
       "      <th>3</th>\n",
       "      <td>1</td>\n",
       "      <td>Packers</td>\n",
       "      <td>15</td>\n",
       "      <td>2011</td>\n",
       "      <td>0.9375</td>\n",
       "      <td>115.4</td>\n",
       "    </tr>\n",
       "    <tr>\n",
       "      <th>4</th>\n",
       "      <td>5</td>\n",
       "      <td>Packers</td>\n",
       "      <td>11</td>\n",
       "      <td>2012</td>\n",
       "      <td>0.6875</td>\n",
       "      <td>118.4</td>\n",
       "    </tr>\n",
       "    <tr>\n",
       "      <th>5</th>\n",
       "      <td>10</td>\n",
       "      <td>Lions</td>\n",
       "      <td>6</td>\n",
       "      <td>2010</td>\n",
       "      <td>0.3750</td>\n",
       "      <td>96.2</td>\n",
       "    </tr>\n",
       "    <tr>\n",
       "      <th>6</th>\n",
       "      <td>6</td>\n",
       "      <td>Lions</td>\n",
       "      <td>10</td>\n",
       "      <td>2011</td>\n",
       "      <td>0.6250</td>\n",
       "      <td>100.5</td>\n",
       "    </tr>\n",
       "    <tr>\n",
       "      <th>7</th>\n",
       "      <td>12</td>\n",
       "      <td>Lions</td>\n",
       "      <td>4</td>\n",
       "      <td>2012</td>\n",
       "      <td>0.2500</td>\n",
       "      <td>104.1</td>\n",
       "    </tr>\n",
       "  </tbody>\n",
       "</table>\n",
       "</div>"
      ],
      "text/plain": [
       "   losses     team  wins  year  win_rate  salary\n",
       "0       5    Bears    11  2010    0.6875   112.1\n",
       "1       8    Bears     8  2011    0.5000   125.2\n",
       "2       6    Bears    10  2012    0.6250   120.8\n",
       "3       1  Packers    15  2011    0.9375   115.4\n",
       "4       5  Packers    11  2012    0.6875   118.4\n",
       "5      10    Lions     6  2010    0.3750    96.2\n",
       "6       6    Lions    10  2011    0.6250   100.5\n",
       "7      12    Lions     4  2012    0.2500   104.1"
      ]
     },
     "execution_count": 43,
     "metadata": {},
     "output_type": "execute_result"
    }
   ],
   "source": [
    "football.merge(pd.DataFrame(salary), on=(\"team\", 'year'))"
   ]
  },
  {
   "cell_type": "code",
   "execution_count": null,
   "metadata": {
    "collapsed": true
   },
   "outputs": [],
   "source": []
  }
 ],
 "metadata": {
  "kernelspec": {
   "display_name": "Python 2",
   "language": "python",
   "name": "python2"
  },
  "language_info": {
   "codemirror_mode": {
    "name": "ipython",
    "version": 2
   },
   "file_extension": ".py",
   "mimetype": "text/x-python",
   "name": "python",
   "nbconvert_exporter": "python",
   "pygments_lexer": "ipython2",
   "version": "2.7.12"
  }
 },
 "nbformat": 4,
 "nbformat_minor": 1
}
